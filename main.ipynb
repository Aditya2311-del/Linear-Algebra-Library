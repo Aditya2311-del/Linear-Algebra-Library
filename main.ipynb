{
 "cells": [
  {
   "cell_type": "code",
   "execution_count": 27,
   "id": "7f5b4cbb",
   "metadata": {},
   "outputs": [
    {
     "name": "stdout",
     "output_type": "stream",
     "text": [
      "Original Matrix:\n",
      "[[4 3 2]\n",
      " [1 2 3]\n",
      " [2 1 4]]\n",
      "\n",
      "==================================================\n",
      "\n"
     ]
    }
   ],
   "source": [
    "from function import Matrix\n",
    "import numpy as np\n",
    "\n",
    "A = np.array([[4, 3, 2],\n",
    "              [1, 2, 3],\n",
    "              [2, 1, 4]])\n",
    "\n",
    "print(\"Original Matrix:\")\n",
    "print(A)\n",
    "print(\"\\n\" + \"=\"*50 + \"\\n\")\n",
    "Mat=Matrix(A)\n"
   ]
  },
  {
   "cell_type": "code",
   "execution_count": 28,
   "id": "4b6831e8",
   "metadata": {},
   "outputs": [
    {
     "name": "stdout",
     "output_type": "stream",
     "text": [
      "RREF:\n",
      "[[1. 0. 0.]\n",
      " [0. 1. 0.]\n",
      " [0. 0. 1.]]\n",
      "\n",
      "==================================================\n",
      "\n"
     ]
    }
   ],
   "source": [
    "print(\"RREF:\")\n",
    "print(Mat.rref())\n",
    "print(\"\\n\" + \"=\"*50 + \"\\n\")"
   ]
  },
  {
   "cell_type": "code",
   "execution_count": 29,
   "id": "fa58cf09",
   "metadata": {},
   "outputs": [
    {
     "name": "stdout",
     "output_type": "stream",
     "text": [
      "Determinant:\n",
      "20.0\n",
      "\n",
      "==================================================\n",
      "\n"
     ]
    }
   ],
   "source": [
    "print(\"Determinant:\")\n",
    "print(Mat.determinant())\n",
    "print(\"\\n\" + \"=\"*50 + \"\\n\")"
   ]
  },
  {
   "cell_type": "code",
   "execution_count": 30,
   "id": "3aaee552",
   "metadata": {},
   "outputs": [
    {
     "name": "stdout",
     "output_type": "stream",
     "text": [
      "Inverse:\n",
      "[[ 0.25 -0.5   0.25]\n",
      " [ 0.1   0.6  -0.5 ]\n",
      " [-0.15  0.1   0.25]]\n",
      "\n",
      "==================================================\n",
      "\n"
     ]
    }
   ],
   "source": [
    "print(\"Inverse:\")\n",
    "print(Mat.inverse())\n",
    "print(\"\\n\" + \"=\"*50 + \"\\n\")"
   ]
  },
  {
   "cell_type": "code",
   "execution_count": 32,
   "id": "506fe1e5",
   "metadata": {},
   "outputs": [
    {
     "name": "stdout",
     "output_type": "stream",
     "text": [
      "LU Decomposition:\n",
      "L:\n",
      "[[ 1.    0.    0.  ]\n",
      " [ 0.25  1.    0.  ]\n",
      " [ 0.5  -0.4   1.  ]]\n",
      "\n",
      "U:\n",
      "[[4.   3.   2.  ]\n",
      " [0.   1.25 2.5 ]\n",
      " [0.   0.   4.  ]]\n",
      "\n",
      "==================================================\n",
      "\n"
     ]
    }
   ],
   "source": [
    "L, U = Mat.lu_decomposition()\n",
    "print(\"LU Decomposition:\")\n",
    "print(\"L:\")\n",
    "print(L)\n",
    "print(\"\\nU:\")\n",
    "print(U)\n",
    "print(\"\\n\" + \"=\"*50 + \"\\n\")"
   ]
  },
  {
   "cell_type": "code",
   "execution_count": null,
   "id": "e4f12305",
   "metadata": {},
   "outputs": [
    {
     "name": "stdout",
     "output_type": "stream",
     "text": [
      "Gram-Schmidt:\n",
      "Original vectors (columns):\n",
      "[[1 1 0]\n",
      " [1 0 1]\n",
      " [0 1 1]]\n",
      "\n",
      "Orthonormal vectors:\n"
     ]
    },
    {
     "ename": "TypeError",
     "evalue": "Matrix.gram_schmidt() takes 1 positional argument but 2 were given",
     "output_type": "error",
     "traceback": [
      "\u001b[31m---------------------------------------------------------------------------\u001b[39m",
      "\u001b[31mTypeError\u001b[39m                                 Traceback (most recent call last)",
      "\u001b[36mCell\u001b[39m\u001b[36m \u001b[39m\u001b[32mIn[10]\u001b[39m\u001b[32m, line 9\u001b[39m\n\u001b[32m      7\u001b[39m \u001b[38;5;28mprint\u001b[39m(V)\n\u001b[32m      8\u001b[39m \u001b[38;5;28mprint\u001b[39m(\u001b[33m\"\u001b[39m\u001b[38;5;130;01m\\n\u001b[39;00m\u001b[33mOrthonormal vectors:\u001b[39m\u001b[33m\"\u001b[39m)\n\u001b[32m----> \u001b[39m\u001b[32m9\u001b[39m \u001b[38;5;28mprint\u001b[39m(\u001b[43mMat\u001b[49m\u001b[43m.\u001b[49m\u001b[43mgram_schmidt\u001b[49m\u001b[43m(\u001b[49m\u001b[43mV\u001b[49m\u001b[43m)\u001b[49m)\n",
      "\u001b[31mTypeError\u001b[39m: Matrix.gram_schmidt() takes 1 positional argument but 2 were given"
     ]
    }
   ],
   "source": [
    "V = np.array([[1, 1, 0],\n",
    "              [1, 0, 1],\n",
    "              [0, 1, 1]]).T\n",
    "\n",
    "print(\"Gram-Schmidt:\")\n",
    "print(\"Original vectors (columns):\")\n",
    "print(V)\n",
    "print(\"\\nOrthonormal vectors:\")\n",
    "print(Mat.gram_schmidt(V))"
   ]
  },
  {
   "cell_type": "code",
   "execution_count": null,
   "id": "b3000d7e",
   "metadata": {},
   "outputs": [],
   "source": []
  }
 ],
 "metadata": {
  "kernelspec": {
   "display_name": "Python 3",
   "language": "python",
   "name": "python3"
  },
  "language_info": {
   "codemirror_mode": {
    "name": "ipython",
    "version": 3
   },
   "file_extension": ".py",
   "mimetype": "text/x-python",
   "name": "python",
   "nbconvert_exporter": "python",
   "pygments_lexer": "ipython3",
   "version": "3.11.9"
  }
 },
 "nbformat": 4,
 "nbformat_minor": 5
}
